{
  "nbformat": 4,
  "nbformat_minor": 0,
  "metadata": {
    "colab": {
      "provenance": [],
      "authorship_tag": "ABX9TyNMevibKQupT410tXS6x56W",
      "include_colab_link": true
    },
    "kernelspec": {
      "name": "python3",
      "display_name": "Python 3"
    },
    "language_info": {
      "name": "python"
    }
  },
  "cells": [
    {
      "cell_type": "markdown",
      "metadata": {
        "id": "view-in-github",
        "colab_type": "text"
      },
      "source": [
        "<a href=\"https://colab.research.google.com/github/ib1905/py_general/blob/main/yacht_game_Exercism.ipynb\" target=\"_parent\"><img src=\"https://colab.research.google.com/assets/colab-badge.svg\" alt=\"Open In Colab\"/></a>"
      ]
    },
    {
      "cell_type": "code",
      "execution_count": null,
      "metadata": {
        "colab": {
          "base_uri": "https://localhost:8080/",
          "height": 218
        },
        "id": "MbfMASwS2lBD",
        "outputId": "ecbde52e-035e-4ae7-9ae4-b5a1dcd7cf4c"
      },
      "outputs": [
        {
          "output_type": "error",
          "ename": "TypeError",
          "evalue": "ignored",
          "traceback": [
            "\u001b[0;31m---------------------------------------------------------------------------\u001b[0m",
            "\u001b[0;31mTypeError\u001b[0m                                 Traceback (most recent call last)",
            "\u001b[0;32m<ipython-input-5-15c364df04bf>\u001b[0m in \u001b[0;36m<module>\u001b[0;34m\u001b[0m\n\u001b[1;32m      3\u001b[0m \u001b[0;34m\u001b[0m\u001b[0m\n\u001b[1;32m      4\u001b[0m \u001b[0;32mfor\u001b[0m \u001b[0m_\u001b[0m \u001b[0;32min\u001b[0m \u001b[0mdice\u001b[0m\u001b[0;34m:\u001b[0m\u001b[0;34m\u001b[0m\u001b[0;34m\u001b[0m\u001b[0m\n\u001b[0;32m----> 5\u001b[0;31m   \u001b[0mx\u001b[0m \u001b[0;34m=\u001b[0m \u001b[0m_\u001b[0m \u001b[0;34m+\u001b[0m \u001b[0;34m' : '\u001b[0m \u001b[0;34m+\u001b[0m \u001b[0mdice\u001b[0m\u001b[0;34m.\u001b[0m\u001b[0mcount\u001b[0m\u001b[0;34m(\u001b[0m\u001b[0m_\u001b[0m\u001b[0;34m)\u001b[0m\u001b[0;34m\u001b[0m\u001b[0;34m\u001b[0m\u001b[0m\n\u001b[0m\u001b[1;32m      6\u001b[0m   \u001b[0mdice_normalized\u001b[0m\u001b[0;34m.\u001b[0m\u001b[0madd\u001b[0m\u001b[0;34m(\u001b[0m\u001b[0mx\u001b[0m\u001b[0;34m)\u001b[0m\u001b[0;34m\u001b[0m\u001b[0;34m\u001b[0m\u001b[0m\n",
            "\u001b[0;31mTypeError\u001b[0m: unsupported operand type(s) for +: 'int' and 'str'"
          ]
        }
      ],
      "source": [
        "dice = [1, 1, 1, 4, 5]\n",
        "dice_normalized = set()\n",
        "\n",
        "for _ in dice:\n",
        "  x = _ + ' : ' + dice.count(_)\n",
        "  dice_normalized.add()"
      ]
    },
    {
      "cell_type": "code",
      "source": [
        "# Score categories.\n",
        "# Change the values as you see fit.\n",
        "YACHT = 50\n",
        "ONES = 1\n",
        "TWOS = None\n",
        "THREES = None\n",
        "FOURS = None\n",
        "FIVES = None\n",
        "SIXES = None\n",
        "FULL_HOUSE = None\n",
        "FOUR_OF_A_KIND = None\n",
        "LITTLE_STRAIGHT = None\n",
        "BIG_STRAIGHT = None\n",
        "CHOICE = None\n",
        "\n",
        "\n",
        "def score(dice, category):\n",
        "    if dice.count(dice[0]) == len(dice):\n",
        "        return category\n",
        "    if \n",
        "    else:\n",
        "        return False\n"
      ],
      "metadata": {
        "id": "ZsfEB_JLGD3A"
      },
      "execution_count": null,
      "outputs": []
    }
  ]
}