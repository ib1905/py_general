{
  "nbformat": 4,
  "nbformat_minor": 0,
  "metadata": {
    "colab": {
      "name": "triangle_Exercism.ipynb",
      "provenance": [],
      "authorship_tag": "ABX9TyOrnidiwK9wTLoP26Iucuaz",
      "include_colab_link": true
    },
    "kernelspec": {
      "name": "python3",
      "display_name": "Python 3"
    },
    "language_info": {
      "name": "python"
    }
  },
  "cells": [
    {
      "cell_type": "markdown",
      "metadata": {
        "id": "view-in-github",
        "colab_type": "text"
      },
      "source": [
        "<a href=\"https://colab.research.google.com/github/ib1905/py_general/blob/main/triangle_Exercism.ipynb\" target=\"_parent\"><img src=\"https://colab.research.google.com/assets/colab-badge.svg\" alt=\"Open In Colab\"/></a>"
      ]
    },
    {
      "cell_type": "code",
      "execution_count": 21,
      "metadata": {
        "id": "22ynByMJC7hk"
      },
      "outputs": [],
      "source": [
        "def equilateral(sides):\n",
        "    return sides[0] == sides[1] == sides[2] and all(sides[_] > 0 \n",
        "    for _ in range(len(sides))) or any(isinstance(sides[_], float) \n",
        "    for _ in range(len(sides)))\n",
        "\n",
        "\n",
        "def isosceles(sides):\n",
        "    pass\n",
        "\n",
        "\n",
        "def scalene(sides):\n",
        "    pass\n"
      ]
    },
    {
      "cell_type": "code",
      "source": [
        "sides = [0.5, 0.5, 0.5]\n",
        "type(sides[0])"
      ],
      "metadata": {
        "colab": {
          "base_uri": "https://localhost:8080/"
        },
        "id": "W2N2O16uEc50",
        "outputId": "14343bde-a0e1-490d-846e-b6c5ab146f45"
      },
      "execution_count": 22,
      "outputs": [
        {
          "output_type": "execute_result",
          "data": {
            "text/plain": [
              "float"
            ]
          },
          "metadata": {},
          "execution_count": 22
        }
      ]
    },
    {
      "cell_type": "code",
      "source": [
        "equilateral(sides)"
      ],
      "metadata": {
        "colab": {
          "base_uri": "https://localhost:8080/"
        },
        "id": "ylyLo1LWHoQA",
        "outputId": "e8368ed6-b43b-4183-a982-bf48538aa8fc"
      },
      "execution_count": 23,
      "outputs": [
        {
          "output_type": "execute_result",
          "data": {
            "text/plain": [
              "True"
            ]
          },
          "metadata": {},
          "execution_count": 23
        }
      ]
    },
    {
      "cell_type": "code",
      "source": [
        "any(isinstance(sides[_], float) for _ in range(len(sides)))"
      ],
      "metadata": {
        "colab": {
          "base_uri": "https://localhost:8080/"
        },
        "id": "LHpGovgwFJFF",
        "outputId": "5c2006ff-996f-4189-a91a-daaeb48203af"
      },
      "execution_count": 24,
      "outputs": [
        {
          "output_type": "execute_result",
          "data": {
            "text/plain": [
              "True"
            ]
          },
          "metadata": {},
          "execution_count": 24
        }
      ]
    }
  ]
}