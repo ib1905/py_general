{
  "nbformat": 4,
  "nbformat_minor": 0,
  "metadata": {
    "colab": {
      "name": "triangle_Exercism.ipynb",
      "provenance": [],
      "authorship_tag": "ABX9TyMGgmh/qOoDwZeI4fDNjLI2",
      "include_colab_link": true
    },
    "kernelspec": {
      "name": "python3",
      "display_name": "Python 3"
    },
    "language_info": {
      "name": "python"
    }
  },
  "cells": [
    {
      "cell_type": "markdown",
      "metadata": {
        "id": "view-in-github",
        "colab_type": "text"
      },
      "source": [
        "<a href=\"https://colab.research.google.com/github/ib1905/py_general/blob/main/triangle_Exercism.ipynb\" target=\"_parent\"><img src=\"https://colab.research.google.com/assets/colab-badge.svg\" alt=\"Open In Colab\"/></a>"
      ]
    },
    {
      "cell_type": "code",
      "execution_count": 21,
      "metadata": {
        "id": "22ynByMJC7hk"
      },
      "outputs": [],
      "source": [
        "def equilateral(sides):\n",
        "    return sides[0] == sides[1] == sides[2] and all(sides[_] > 0 \n",
        "    for _ in range(len(sides))) or any(isinstance(sides[_], float) \n",
        "    for _ in range(len(sides)))\n",
        "\n",
        "\n",
        "def isosceles(sides):\n",
        "    pass\n",
        "\n",
        "\n",
        "def scalene(sides):\n",
        "    pass\n"
      ]
    },
    {
      "cell_type": "code",
      "source": [
        "sides = [0.5, 0.5, 0.5]\n",
        "type(sides[0])"
      ],
      "metadata": {
        "colab": {
          "base_uri": "https://localhost:8080/"
        },
        "id": "W2N2O16uEc50",
        "outputId": "14343bde-a0e1-490d-846e-b6c5ab146f45"
      },
      "execution_count": 22,
      "outputs": [
        {
          "output_type": "execute_result",
          "data": {
            "text/plain": [
              "float"
            ]
          },
          "metadata": {},
          "execution_count": 22
        }
      ]
    },
    {
      "cell_type": "code",
      "source": [
        "equilateral(sides)"
      ],
      "metadata": {
        "colab": {
          "base_uri": "https://localhost:8080/"
        },
        "id": "ylyLo1LWHoQA",
        "outputId": "e8368ed6-b43b-4183-a982-bf48538aa8fc"
      },
      "execution_count": 23,
      "outputs": [
        {
          "output_type": "execute_result",
          "data": {
            "text/plain": [
              "True"
            ]
          },
          "metadata": {},
          "execution_count": 23
        }
      ]
    },
    {
      "cell_type": "code",
      "source": [
        "any(isinstance(sides[_], float) for _ in range(len(sides)))"
      ],
      "metadata": {
        "colab": {
          "base_uri": "https://localhost:8080/"
        },
        "id": "LHpGovgwFJFF",
        "outputId": "5c2006ff-996f-4189-a91a-daaeb48203af"
      },
      "execution_count": 24,
      "outputs": [
        {
          "output_type": "execute_result",
          "data": {
            "text/plain": [
              "True"
            ]
          },
          "metadata": {},
          "execution_count": 24
        }
      ]
    },
    {
      "cell_type": "code",
      "source": [
        "1 + 1 >= 3"
      ],
      "metadata": {
        "colab": {
          "base_uri": "https://localhost:8080/"
        },
        "id": "YMt0NL3o_XVw",
        "outputId": "372e5878-7bc0-40d4-d815-62a70aa76926"
      },
      "execution_count": 1,
      "outputs": [
        {
          "output_type": "execute_result",
          "data": {
            "text/plain": [
              "False"
            ]
          },
          "metadata": {},
          "execution_count": 1
        }
      ]
    },
    {
      "cell_type": "code",
      "source": [
        "def isosceles(sides):\n",
        "    if sides[0] == sides[1] or sides[1] == sides[2] or sides[0] == sides[2]:\n",
        "        print('T1')\n",
        "        if sides[0] + sides[1] >= sides[2] and sides[0] + sides[2] >= sides[1] and sides[1] + sides[2] >= sides[0]:\n",
        "            print('T2')\n",
        "            return True\n",
        "        else:\n",
        "            print('F2')\n",
        "            return False\n",
        "    else:\n",
        "        print('F2')\n",
        "        return False\n",
        "\n",
        "isosceles([1, 1, 3])"
      ],
      "metadata": {
        "colab": {
          "base_uri": "https://localhost:8080/"
        },
        "id": "nGflmBV9BVdf",
        "outputId": "929f1059-d595-43ef-995a-e0759c9df767"
      },
      "execution_count": 7,
      "outputs": [
        {
          "output_type": "stream",
          "name": "stdout",
          "text": [
            "T1\n",
            "F2\n"
          ]
        },
        {
          "output_type": "execute_result",
          "data": {
            "text/plain": [
              "False"
            ]
          },
          "metadata": {},
          "execution_count": 7
        }
      ]
    },
    {
      "cell_type": "code",
      "source": [
        "sides = [1, 1, 3]"
      ],
      "metadata": {
        "id": "6jNYlrBlCF4L"
      },
      "execution_count": 5,
      "outputs": []
    },
    {
      "cell_type": "code",
      "source": [
        "sides[0] + sides[1] >= sides[2]"
      ],
      "metadata": {
        "colab": {
          "base_uri": "https://localhost:8080/"
        },
        "id": "QzD2qTBACQUh",
        "outputId": "de010769-a485-47f4-e324-6c9b2ea72dfd"
      },
      "execution_count": 6,
      "outputs": [
        {
          "output_type": "execute_result",
          "data": {
            "text/plain": [
              "False"
            ]
          },
          "metadata": {},
          "execution_count": 6
        }
      ]
    },
    {
      "cell_type": "code",
      "source": [
        "def isosceles(sides):\n",
        "    if sides[0] == sides[1] or sides[1] == sides[2] or sides[0] == sides[2]:\n",
        "        if sides[0] + sides[1] >= sides[2] and sides[0] + sides[2] >= sides[1] and sides[1] + sides[2] >= sides[0]:\n",
        "            return True\n",
        "        return False\n",
        "    return False"
      ],
      "metadata": {
        "id": "wJxx521YDSTV"
      },
      "execution_count": null,
      "outputs": []
    },
    {
      "cell_type": "code",
      "source": [
        "def equilateral(sides):\n",
        "    return sides[0] == sides[1] == sides[2] and all(sides[_] > 0 for _ in range(len(sides))) or any(isinstance(sides[_], float) for _ in range(len(sides)))\n",
        "\n",
        "\n",
        "def isosceles(sides):\n",
        "    return(sides[0] == sides[1] or sides[1] == sides[2] or sides[0] == sides[2]) and (sides[0] + sides[1] >= sides[2] and sides[0] + sides[2] >= sides[1] and sides[1] + sides[2] >= sides[0])\n",
        "\n",
        "\n",
        "def scalene(sides):\n",
        "    return (sides[0] != sides[1] and sides[1] != sides[2] and sides[0] != sides[2]) and (sides[0] + sides[1] >= sides[2] and sides[0] + sides[2] >= sides[1] and sides[1] + sides[2] >= sides[0])\n"
      ],
      "metadata": {
        "id": "oqhz76UwFWrT"
      },
      "execution_count": null,
      "outputs": []
    }
  ]
}