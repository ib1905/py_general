{
  "nbformat": 4,
  "nbformat_minor": 0,
  "metadata": {
    "colab": {
      "name": "difference_of_squares_Exercism.ipynb",
      "provenance": [],
      "authorship_tag": "ABX9TyNY74RKNfJwc78vWpvOQaEG",
      "include_colab_link": true
    },
    "kernelspec": {
      "name": "python3",
      "display_name": "Python 3"
    },
    "language_info": {
      "name": "python"
    }
  },
  "cells": [
    {
      "cell_type": "markdown",
      "metadata": {
        "id": "view-in-github",
        "colab_type": "text"
      },
      "source": [
        "<a href=\"https://colab.research.google.com/github/ib1905/py_general/blob/main/difference_of_squares_Exercism.ipynb\" target=\"_parent\"><img src=\"https://colab.research.google.com/assets/colab-badge.svg\" alt=\"Open In Colab\"/></a>"
      ]
    },
    {
      "cell_type": "code",
      "execution_count": null,
      "metadata": {
        "id": "25Bh-iefUFSd"
      },
      "outputs": [],
      "source": [
        "def square_of_sum(number):\n",
        "    sum = 0\n",
        "    for _ in range(1, number + 1):\n",
        "        sum += _\n",
        "    return sum ** 2\n",
        "\n",
        "def sum_of_squares(number):\n",
        "    sum = 0\n",
        "    for _ in range(1, number + 1):\n",
        "        sum += _ ** 2\n",
        "    return sum\n",
        "\n",
        "\n",
        "def difference_of_squares(number):\n",
        "    square_of_sums = 0\n",
        "    sum_of_squares = 0\n",
        "    for _ in range(1, number + 1):\n",
        "        square_of_sums += _\n",
        "        sum_of_squares += _ ** 2\n",
        "    return square_of_sum ** 2 - sum_of_squares\n"
      ]
    },
    {
      "cell_type": "code",
      "source": [
        "square_of_sum(10)"
      ],
      "metadata": {
        "colab": {
          "base_uri": "https://localhost:8080/"
        },
        "id": "rcMYm5caUN60",
        "outputId": "51c6f4d3-5f79-4722-e1e0-8dbdb9d2ae74"
      },
      "execution_count": null,
      "outputs": [
        {
          "output_type": "execute_result",
          "data": {
            "text/plain": [
              "3025"
            ]
          },
          "metadata": {},
          "execution_count": 6
        }
      ]
    },
    {
      "cell_type": "code",
      "source": [
        "sum_of_squares(10)"
      ],
      "metadata": {
        "colab": {
          "base_uri": "https://localhost:8080/"
        },
        "id": "6dbYdUNyVA2_",
        "outputId": "93c76212-d3d2-45cd-f162-2e1bcd87f3d6"
      },
      "execution_count": null,
      "outputs": [
        {
          "output_type": "execute_result",
          "data": {
            "text/plain": [
              "385"
            ]
          },
          "metadata": {},
          "execution_count": 8
        }
      ]
    }
  ]
}