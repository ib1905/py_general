{
  "nbformat": 4,
  "nbformat_minor": 0,
  "metadata": {
    "colab": {
      "name": "litl_sistez_vocab_Exercism.ipynb",
      "provenance": [],
      "authorship_tag": "ABX9TyOatVo/hxP5oh2PqYX/i/RD",
      "include_colab_link": true
    },
    "kernelspec": {
      "name": "python3",
      "display_name": "Python 3"
    },
    "language_info": {
      "name": "python"
    }
  },
  "cells": [
    {
      "cell_type": "markdown",
      "metadata": {
        "id": "view-in-github",
        "colab_type": "text"
      },
      "source": [
        "<a href=\"https://colab.research.google.com/github/ib1905/py_general/blob/main/litl_sistez_vocab_Exercism.ipynb\" target=\"_parent\"><img src=\"https://colab.research.google.com/assets/colab-badge.svg\" alt=\"Open In Colab\"/></a>"
      ]
    },
    {
      "cell_type": "code",
      "execution_count": null,
      "metadata": {
        "colab": {
          "base_uri": "https://localhost:8080/"
        },
        "id": "iljqUH-ibjja",
        "outputId": "ec09d623-cafe-46c8-d6fb-4859c3773d2d"
      },
      "outputs": [
        {
          "output_type": "stream",
          "name": "stdout",
          "text": [
            "auto :: autodidactic :: autograph :: automate :: autochrome :: autocentric :: autocomplete :: autoecholalia :: autoencoder :: autobiography\n"
          ]
        }
      ],
      "source": [
        "def make_word_groups(vocab_words):\n",
        "    vocab_words_prefixed = ''\n",
        "    for _ in range(1, len(vocab_words)):\n",
        "        vocab_words_prefixed += ' :: ' + vocab_words[0] + vocab_words[_]\n",
        "    return vocab_words[0] + vocab_words_prefixed\n",
        "\n",
        "vocab_words = ['auto', 'didactic', 'graph', 'mate', 'chrome', 'centric', 'complete',\n",
        "              'echolalia', 'encoder', 'biography']\n",
        "\n",
        "print(make_word_groups(vocab_words))"
      ]
    },
    {
      "cell_type": "code",
      "source": [
        "def remove_suffix_ness(word):\n",
        "    word_normalized = word[:-4]\n",
        "    if word_normalized[-1] == 'i':\n",
        "        word_normalized = word_normalized[:-1] + 'y'\n",
        "    return word_normalized\n",
        "\n",
        "word = 'happiness'\n",
        "print(remove_suffix_ness(word))"
      ],
      "metadata": {
        "colab": {
          "base_uri": "https://localhost:8080/"
        },
        "id": "FSpLPUXfdz8i",
        "outputId": "010ff594-57c9-41c8-f767-947070bbbf15"
      },
      "execution_count": null,
      "outputs": [
        {
          "output_type": "stream",
          "name": "stdout",
          "text": [
            "happy\n"
          ]
        }
      ]
    },
    {
      "cell_type": "code",
      "source": [
        "def adjective_to_verb(sentence, index):\n",
        "    sentence = sentence.replace('.', '')\n",
        "    sentence = sentence.split(' ')\n",
        "    return sentence[index] + 'en'\n",
        "    \n",
        "adjective_to_verb('I need to make that bright.', -1 )"
      ],
      "metadata": {
        "colab": {
          "base_uri": "https://localhost:8080/",
          "height": 38
        },
        "id": "QYwI4sJqt7ge",
        "outputId": "5005facc-307a-4a8d-d109-be23d0c12ead"
      },
      "execution_count": null,
      "outputs": [
        {
          "output_type": "execute_result",
          "data": {
            "text/plain": [
              "'brighten'"
            ],
            "application/vnd.google.colaboratory.intrinsic+json": {
              "type": "string"
            }
          },
          "metadata": {},
          "execution_count": 38
        }
      ]
    }
  ]
}