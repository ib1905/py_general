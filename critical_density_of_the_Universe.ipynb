{
  "nbformat": 4,
  "nbformat_minor": 0,
  "metadata": {
    "colab": {
      "name": "critical_density_of_the_Universe.ipynb",
      "provenance": [],
      "authorship_tag": "ABX9TyP0iHzhhk1kEYhUBVthwKxT",
      "include_colab_link": true
    },
    "kernelspec": {
      "name": "python3",
      "display_name": "Python 3"
    },
    "language_info": {
      "name": "python"
    }
  },
  "cells": [
    {
      "cell_type": "markdown",
      "metadata": {
        "id": "view-in-github",
        "colab_type": "text"
      },
      "source": [
        "<a href=\"https://colab.research.google.com/github/ib1905/py_general/blob/main/critical_density_of_the_Universe.ipynb\" target=\"_parent\"><img src=\"https://colab.research.google.com/assets/colab-badge.svg\" alt=\"Open In Colab\"/></a>"
      ]
    },
    {
      "cell_type": "code",
      "execution_count": null,
      "metadata": {
        "id": "c2Dp4pMofKc4"
      },
      "outputs": [],
      "source": [
        "# The critical density is the combination of matter and energy which brings universe expansion to a stop at time infinity\n",
        "\n",
        "# Ro_critical = 3 * Hubble constant ** 2 / 8 * pi * G (universal constant of gravity)\n",
        "\n",
        "''' Use astropy constant, astropy units, numpy\n",
        "convert units of km and ly into meters\n",
        "mind that N (unit of force) in G is the same as kg * m / s ** 2 '''\n",
        "\n",
        "# average mass-energy in a volume of space V is E = Ro_critical * V"
      ]
    }
  ]
}