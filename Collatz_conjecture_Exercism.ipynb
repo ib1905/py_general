{
  "nbformat": 4,
  "nbformat_minor": 0,
  "metadata": {
    "colab": {
      "name": "Collatz_conjecture_Exercism.ipynb",
      "provenance": [],
      "authorship_tag": "ABX9TyPVX1z2Z9PNnUoIuMxw0bW5",
      "include_colab_link": true
    },
    "kernelspec": {
      "name": "python3",
      "display_name": "Python 3"
    },
    "language_info": {
      "name": "python"
    }
  },
  "cells": [
    {
      "cell_type": "markdown",
      "metadata": {
        "id": "view-in-github",
        "colab_type": "text"
      },
      "source": [
        "<a href=\"https://colab.research.google.com/github/ib1905/py_general/blob/main/Collatz_conjecture_Exercism.ipynb\" target=\"_parent\"><img src=\"https://colab.research.google.com/assets/colab-badge.svg\" alt=\"Open In Colab\"/></a>"
      ]
    },
    {
      "cell_type": "code",
      "execution_count": null,
      "metadata": {
        "colab": {
          "base_uri": "https://localhost:8080/"
        },
        "id": "vfW27zkxlXUT",
        "outputId": "334e94a4-e335-4edc-9ec9-99439fe315ad"
      },
      "outputs": [
        {
          "output_type": "execute_result",
          "data": {
            "text/plain": [
              "9"
            ]
          },
          "metadata": {},
          "execution_count": 19
        }
      ],
      "source": [
        "def steps(number):\n",
        "    if number <= 0:\n",
        "        raise ValueError(\"Only positive integers are allowed\")\n",
        "    counter = 0\n",
        "    while number != 1:\n",
        "        if number % 2 == 0:\n",
        "            number /= 2\n",
        "        else:\n",
        "            number = 3 * number + 1\n",
        "        counter += 1\n",
        "    return counter\n",
        "\n",
        "steps(12)"
      ]
    }
  ]
}