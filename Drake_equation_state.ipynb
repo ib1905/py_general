{
  "nbformat": 4,
  "nbformat_minor": 0,
  "metadata": {
    "colab": {
      "name": "Drake_equation_state.ipynb",
      "provenance": [],
      "authorship_tag": "ABX9TyNRvBcO1F5o124X0jHj7rno",
      "include_colab_link": true
    },
    "kernelspec": {
      "name": "python3",
      "display_name": "Python 3"
    },
    "language_info": {
      "name": "python"
    }
  },
  "cells": [
    {
      "cell_type": "markdown",
      "metadata": {
        "id": "view-in-github",
        "colab_type": "text"
      },
      "source": [
        "<a href=\"https://colab.research.google.com/github/ib1905/py_general/blob/main/Drake_equation_state.ipynb\" target=\"_parent\"><img src=\"https://colab.research.google.com/assets/colab-badge.svg\" alt=\"Open In Colab\"/></a>"
      ]
    },
    {
      "cell_type": "code",
      "execution_count": null,
      "metadata": {
        "id": "FhNFUzptYIfi"
      },
      "outputs": [],
      "source": [
        "# Drake Equation\n",
        "\n",
        "'''Number of communicating civilizations = rate of formation of such civilizations (per year) * avg lifespan (years)\n",
        "N = R_total * L\n",
        "R_total = R_stars * f_planets * f_habitable * f_life * f_intelligence * f_communication\n",
        "where R_star is a rate of formation of stars like the Sun;\n",
        "the rest of parameters are probabilities (0-1) of:\n",
        "- these stars with planets,\n",
        "- planetary systems with habitable planets,\n",
        "- habitable planets which support life,\n",
        "- inhabited planets with advanced intelligence,\n",
        "- communicating in search of extraterrestrial intelligence'''\n",
        "\n",
        "''' Activities here include:\n",
        "- update parameters retrieval from SETI online service (if possible)\n",
        "- general formula presentation with the subsequent explanation\n",
        "- calculation of the result with the subsequent explanation '''"
      ]
    }
  ]
}