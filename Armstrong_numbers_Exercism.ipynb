{
  "nbformat": 4,
  "nbformat_minor": 0,
  "metadata": {
    "colab": {
      "name": "Armstrong_numbers_Exercism",
      "provenance": [],
      "authorship_tag": "ABX9TyOwxGy6+hmfi6KQ3Je2k3Dx",
      "include_colab_link": true
    },
    "kernelspec": {
      "name": "python3",
      "display_name": "Python 3"
    },
    "language_info": {
      "name": "python"
    }
  },
  "cells": [
    {
      "cell_type": "markdown",
      "metadata": {
        "id": "view-in-github",
        "colab_type": "text"
      },
      "source": [
        "<a href=\"https://colab.research.google.com/github/ib1905/py_general/blob/main/Armstrong_numbers_Exercism.ipynb\" target=\"_parent\"><img src=\"https://colab.research.google.com/assets/colab-badge.svg\" alt=\"Open In Colab\"/></a>"
      ]
    },
    {
      "cell_type": "code",
      "execution_count": null,
      "metadata": {
        "colab": {
          "base_uri": "https://localhost:8080/"
        },
        "id": "ydNhWqf3yP1c",
        "outputId": "c9f34329-e78f-4f44-b97d-df2a7e71af3b"
      },
      "outputs": [
        {
          "output_type": "stream",
          "name": "stdout",
          "text": [
            "<class 'int'>\n"
          ]
        },
        {
          "output_type": "execute_result",
          "data": {
            "text/plain": [
              "True"
            ]
          },
          "metadata": {},
          "execution_count": 67
        }
      ],
      "source": [
        "def is_armstrong_number(number):\n",
        "    numbers_str = str(number)\n",
        "    sum = 0\n",
        "    for number in numbers_str:\n",
        "        sum += int(number) ** len(numbers_str)\n",
        "    print(type(sum))\n",
        "    if sum == int(numbers_str):\n",
        "      return True\n",
        "    return False\n",
        "\n",
        "is_armstrong_number(153)"
      ]
    },
    {
      "cell_type": "code",
      "source": [
        "number_str = str(154)\n",
        "print(len(number_str))"
      ],
      "metadata": {
        "colab": {
          "base_uri": "https://localhost:8080/"
        },
        "id": "LSbXPDPr7uzW",
        "outputId": "b7ff7d87-f0c2-4711-b722-5dc47c2bb4fc"
      },
      "execution_count": null,
      "outputs": [
        {
          "output_type": "stream",
          "name": "stdout",
          "text": [
            "3\n"
          ]
        }
      ]
    }
  ]
}